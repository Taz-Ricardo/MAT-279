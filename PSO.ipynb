{
 "cells": [
  {
   "cell_type": "markdown",
   "metadata": {},
   "source": [
    "# Pseudo codigo"
   ]
  },
  {
   "cell_type": "markdown",
   "metadata": {},
   "source": [
    "1. Crear matriz de nxm con valores enteros aleatorios entre el 0 y 3 incluidos\n",
    "2. Les hago variar la posición (entrada) con una velocidad que depende de la posición actual, la mejorr distribución para su fila y la mejor posición global (la mayor cantidad de las filas tienen carga equitativa) una catnidad de iteraciones r.\n",
    "3. Estudio si la solución es factible proceso a la linea 8 si no, comienzo las mutaciones en linea 4..\n",
    "4. Reasigno personal, que esta en los turnos con sobrepersonal a los turnos que necesitan más para cumplir la demanda diaría.\n",
    "5. Verifico que los turnos esten cubiertos con el personal necesario, no más, ni menos para pasar al paso 6, si no vuelvo a paso 4.\n",
    "6. Estudio si la solución es factible, si lo es paso a linea 8. si no a linea 7.\n",
    "7. Relizo cambios entre turnos del personal, si luego de estos cambios, la posición es factible, paso a linea 8, si no, vuelvo a la linea 4.\n",
    "8. Evaluar si la solución es satisfactoria, que exitan k personas o menos que están a una distancia d del promedio en ciertos turnos, de cumplir este criterio, se termina las iteraciones, si no cumple el criterio pasamos a linea 9.\n",
    "9. Realizamos cambios de turnos entre personal, para lograr una distribución de carga aceptable según el criterio anterior, si la solución es factible con las otras restricciones, se termina el proceso, de no serlo, saltamos a la linea 2 con la posición actual, y la velocidad tomando el historial pasado, más las iteraciones futuras."
   ]
  },
  {
   "cell_type": "code",
   "execution_count": 17,
   "metadata": {},
   "outputs": [],
   "source": [
    "import numpy as np"
   ]
  },
  {
   "cell_type": "code",
   "execution_count": 17,
   "metadata": {},
   "outputs": [],
   "source": []
  }
 ],
 "metadata": {
  "kernelspec": {
   "display_name": "Python 3",
   "language": "python",
   "name": "python3"
  },
  "language_info": {
   "codemirror_mode": {
    "name": "ipython",
    "version": 3
   },
   "file_extension": ".py",
   "mimetype": "text/x-python",
   "name": "python",
   "nbconvert_exporter": "python",
   "pygments_lexer": "ipython3",
   "version": "3.7.3"
  }
 },
 "nbformat": 4,
 "nbformat_minor": 4
}
