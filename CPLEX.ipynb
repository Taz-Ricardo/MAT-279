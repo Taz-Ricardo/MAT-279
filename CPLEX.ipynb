{
 "cells": [
  {
   "cell_type": "code",
   "execution_count": 1,
   "metadata": {},
   "outputs": [],
   "source": [
    "import numpy as np\n",
    "try:\n",
    "    from docplex.mp.model import Model\n",
    "except:\n",
    "    !pip install docplex\n",
    "from docplex.mp.model import Model\n",
    "\n",
    "import pandas as pd\n",
    "\n",
    "try:\n",
    "    import ipywidgets\n",
    "except:\n",
    "    !pip install ipywidgets\n",
    "from ipywidgets import interact\n",
    "import ipywidgets as widgets\n",
    "import time"
   ]
  },
  {
   "cell_type": "markdown",
   "metadata": {},
   "source": [
    "# Cotas de restricciones"
   ]
  },
  {
   "cell_type": "code",
   "execution_count": 2,
   "metadata": {},
   "outputs": [],
   "source": [
    "# Numero de enfermeras\n",
    "N = 15 #dato arbitrario\n",
    "nurses = ['Enfermera_' +str(n) for n in range(N)]\n",
    "# periodo de días que queremos agendar\n",
    "T = 7 #una semana\n",
    "days = ['Dia_' +str(t) for t in range(T)]"
   ]
  },
  {
   "cell_type": "code",
   "execution_count": 3,
   "metadata": {},
   "outputs": [],
   "source": [
    "# Variables temporales que podrían arreglar el trabajo de ciertos datos\n",
    "days2 = ['Dia_' +str(t+1) for t in range(T-1)]\n",
    "days3 = ['Dia_' +str(t) for t in range(6)]"
   ]
  },
  {
   "cell_type": "code",
   "execution_count": 4,
   "metadata": {},
   "outputs": [],
   "source": [
    "# Turnos asumiendo 3 tipos de turnos\n",
    "S = ['Mañana', 'Tarde', 'Noche']\n",
    "\n",
    "\n",
    "\n",
    "\n",
    "# numero de enferrmeras requerido por turno\n",
    "R = {'Mañana' : 5,\n",
    "     'Tarde' : 4,\n",
    "     'Noche' : 3}\n",
    "# duration of each shift\n",
    "h = {'Morning' : 7,\n",
    "     'Afternoon' : 8,\n",
    "     'Night' : 9}"
   ]
  },
  {
   "cell_type": "code",
   "execution_count": 6,
   "metadata": {},
   "outputs": [],
   "source": [
    "mdl = Model('Scheduling')\n",
    "\n",
    "# Creación de variables\n",
    "idx_x = [(i,s,t) for i in nurses for s in S for t in days]\n",
    "x = mdl.binary_var_dict(idx_x) #Diccionario con días, nombre de personal y turno correspondiente\n",
    "D_prom = mdl.continuous_var_dict(days) #Promedio de turnos de día trabajados\n",
    "E_prom = mdl.continuous_var_dict(days) #Promedio de turnos de tarde trabajados\n",
    "N_prom = mdl.continuous_var_dict(days)  #Promedio de turnos nocturnos trabajados\n",
    "O_prom = mdl.continuous_var_dict(days)  #Promedio de días libres"
   ]
  },
  {
   "cell_type": "markdown",
   "metadata": {},
   "source": [
    "# Función objetivo"
   ]
  },
  {
   "cell_type": "code",
   "execution_count": 7,
   "metadata": {},
   "outputs": [],
   "source": [
    "#Acercamiento lineal a encontrar una solución \"pareja\" de distribución de la carga\n",
    "mdl.minimize(mdl.sum(10*D_prom[i] + 10*E_prom[i]+10*N_prom[i]+10*O_prom[i] for i in days)) "
   ]
  },
  {
   "cell_type": "markdown",
   "metadata": {},
   "source": [
    "# Restricciones"
   ]
  },
  {
   "cell_type": "code",
   "execution_count": 8,
   "metadata": {},
   "outputs": [],
   "source": [
    "#El perrsonal no puede tener más de un turno al día\n",
    "mdl.add_constraints(mdl.sum(x[i,s,t] for s in S) <= 1 for i in nurses for t in days);\n",
    "#Se cumple con tener el personal asignado para cada turno del día\n",
    "mdl.add_constraints(mdl.sum(x[i,s,t] for i in nurses)>= R[s]  for s in S for t in days);\n",
    "#No se trabaja un día si se trabaja una noche el día anterior.\n",
    "mdl.add_constraints(mdl.sum(x[i,'Mañana',t] for i in nurses for t in days)-1 <= x[i,'Noche',t] for i in nurses for t in days2);\n",
    "#Cada integrante del personal no trabaja más de una cantidad especifica de noches\n",
    "mdl.add_constraints( mdl.sum(x[i,'Noche',t] for i in nurses)<= 6 for t in days ); #Falta implementar que no sea en días consecutivos"
   ]
  },
  {
   "cell_type": "code",
   "execution_count": 10,
   "metadata": {},
   "outputs": [
    {
     "name": "stdout",
     "output_type": "stream",
     "text": [
      "Model: Scheduling\n",
      " - number of variables: 343\n",
      "   - binary=315, integer=0, continuous=28\n",
      " - number of constraints: 223\n",
      "   - linear=223\n",
      " - parameters: defaults\n",
      " - objective: minimize\n",
      " - problem type is: MILP\n"
     ]
    },
    {
     "ename": "AttributeError",
     "evalue": "'NoneType' object has no attribute 'solve_details'",
     "output_type": "error",
     "traceback": [
      "\u001b[0;31m---------------------------------------------------------------------------\u001b[0m",
      "\u001b[0;31mAttributeError\u001b[0m                            Traceback (most recent call last)",
      "\u001b[0;32m<ipython-input-10-1875edc62b85>\u001b[0m in \u001b[0;36m<module>\u001b[0;34m\u001b[0m\n\u001b[1;32m      1\u001b[0m \u001b[0mmdl\u001b[0m\u001b[0;34m.\u001b[0m\u001b[0mprint_information\u001b[0m\u001b[0;34m(\u001b[0m\u001b[0;34m)\u001b[0m\u001b[0;34m\u001b[0m\u001b[0;34m\u001b[0m\u001b[0m\n\u001b[1;32m      2\u001b[0m \u001b[0mmdl\u001b[0m\u001b[0;34m.\u001b[0m\u001b[0msolve\u001b[0m\u001b[0;34m(\u001b[0m\u001b[0;34m)\u001b[0m\u001b[0;34m\u001b[0m\u001b[0;34m\u001b[0m\u001b[0m\n\u001b[0;32m----> 3\u001b[0;31m \u001b[0mmdl\u001b[0m\u001b[0;34m.\u001b[0m\u001b[0msolution\u001b[0m\u001b[0;34m.\u001b[0m\u001b[0msolve_details\u001b[0m\u001b[0;34m(\u001b[0m\u001b[0;34m)\u001b[0m\u001b[0;34m\u001b[0m\u001b[0;34m\u001b[0m\u001b[0m\n\u001b[0m",
      "\u001b[0;31mAttributeError\u001b[0m: 'NoneType' object has no attribute 'solve_details'"
     ]
    }
   ],
   "source": [
    "#mdl.print_information()\n",
    "#mdl.solve()\n",
    "#mdl.solution.solve_details #Codigo inconcluso."
   ]
  },
  {
   "cell_type": "code",
   "execution_count": null,
   "metadata": {},
   "outputs": [],
   "source": []
  }
 ],
 "metadata": {
  "kernelspec": {
   "display_name": "Python 3",
   "language": "python",
   "name": "python3"
  },
  "language_info": {
   "codemirror_mode": {
    "name": "ipython",
    "version": 3
   },
   "file_extension": ".py",
   "mimetype": "text/x-python",
   "name": "python",
   "nbconvert_exporter": "python",
   "pygments_lexer": "ipython3",
   "version": "3.7.3"
  }
 },
 "nbformat": 4,
 "nbformat_minor": 4
}
